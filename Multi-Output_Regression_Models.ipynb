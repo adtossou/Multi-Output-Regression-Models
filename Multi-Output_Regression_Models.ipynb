{
 "cells": [
  {
   "cell_type": "markdown",
   "metadata": {},
   "source": [
    "# How to Develop Multi-Output Regression Models with Python\n",
    "\n",
    "Multioutput regression are regression problems that involve predicting two or more numerical values given an input example.\n",
    "\n",
    "An example might be to predict a coordinate given an input, e.g. predicting x and y values. Another example would be multi-step time series forecasting that involves predicting multiple future time series of a given variable.\n",
    "\n",
    "Refer to this blog post by Jason Brownlee for more detail: https://machinelearningmastery.com/multi-output-regression-models-with-python/\n",
    "\n",
    "Also, here's a YouTube video that covers the same subject: https://youtu.be/26J3bcqhfLE"
   ]
  },
  {
   "cell_type": "markdown",
   "metadata": {},
   "source": [
    "### MultiOutput Regression Models In Python"
   ]
  },
  {
   "cell_type": "code",
   "execution_count": 5,
   "metadata": {},
   "outputs": [],
   "source": [
    "import pandas as pd\n",
    "import numpy as np"
   ]
  },
  {
   "cell_type": "markdown",
   "metadata": {},
   "source": [
    "First let's generate a dataset with 2 targets, to use in this tutorial:"
   ]
  },
  {
   "cell_type": "code",
   "execution_count": 1,
   "metadata": {},
   "outputs": [],
   "source": [
    "from sklearn.datasets import make_regression"
   ]
  },
  {
   "cell_type": "code",
   "execution_count": 2,
   "metadata": {},
   "outputs": [],
   "source": [
    "## Create the dataset.\n",
    "# Note: 'X' and 'y' are both NumPy nd-arrays\n",
    "X, y = make_regression(n_samples=1500,n_informative=5,n_features=10,n_targets=2)"
   ]
  },
  {
   "cell_type": "code",
   "execution_count": 6,
   "metadata": {},
   "outputs": [
    {
     "data": {
      "text/html": [
       "<div>\n",
       "<style scoped>\n",
       "    .dataframe tbody tr th:only-of-type {\n",
       "        vertical-align: middle;\n",
       "    }\n",
       "\n",
       "    .dataframe tbody tr th {\n",
       "        vertical-align: top;\n",
       "    }\n",
       "\n",
       "    .dataframe thead th {\n",
       "        text-align: right;\n",
       "    }\n",
       "</style>\n",
       "<table border=\"1\" class=\"dataframe\">\n",
       "  <thead>\n",
       "    <tr style=\"text-align: right;\">\n",
       "      <th></th>\n",
       "      <th>0</th>\n",
       "      <th>1</th>\n",
       "      <th>2</th>\n",
       "      <th>3</th>\n",
       "      <th>4</th>\n",
       "      <th>5</th>\n",
       "      <th>6</th>\n",
       "      <th>7</th>\n",
       "      <th>8</th>\n",
       "      <th>9</th>\n",
       "    </tr>\n",
       "  </thead>\n",
       "  <tbody>\n",
       "    <tr>\n",
       "      <th>0</th>\n",
       "      <td>0.389931</td>\n",
       "      <td>-0.838284</td>\n",
       "      <td>1.968936</td>\n",
       "      <td>0.924795</td>\n",
       "      <td>-0.953027</td>\n",
       "      <td>-1.524406</td>\n",
       "      <td>-0.153558</td>\n",
       "      <td>-1.764456</td>\n",
       "      <td>-1.438949</td>\n",
       "      <td>0.295061</td>\n",
       "    </tr>\n",
       "    <tr>\n",
       "      <th>1</th>\n",
       "      <td>-0.180634</td>\n",
       "      <td>0.827593</td>\n",
       "      <td>0.017068</td>\n",
       "      <td>-0.800341</td>\n",
       "      <td>0.450367</td>\n",
       "      <td>-0.285883</td>\n",
       "      <td>-1.007966</td>\n",
       "      <td>0.620922</td>\n",
       "      <td>-0.252213</td>\n",
       "      <td>0.975275</td>\n",
       "    </tr>\n",
       "    <tr>\n",
       "      <th>2</th>\n",
       "      <td>1.327942</td>\n",
       "      <td>2.257078</td>\n",
       "      <td>0.278028</td>\n",
       "      <td>1.196362</td>\n",
       "      <td>1.488471</td>\n",
       "      <td>1.585731</td>\n",
       "      <td>1.106778</td>\n",
       "      <td>3.002443</td>\n",
       "      <td>-0.449102</td>\n",
       "      <td>-0.592198</td>\n",
       "    </tr>\n",
       "    <tr>\n",
       "      <th>3</th>\n",
       "      <td>-0.038221</td>\n",
       "      <td>-1.543440</td>\n",
       "      <td>-0.389085</td>\n",
       "      <td>-1.057201</td>\n",
       "      <td>0.127640</td>\n",
       "      <td>1.775334</td>\n",
       "      <td>-1.490630</td>\n",
       "      <td>-1.218147</td>\n",
       "      <td>1.346898</td>\n",
       "      <td>1.203405</td>\n",
       "    </tr>\n",
       "    <tr>\n",
       "      <th>4</th>\n",
       "      <td>-1.213114</td>\n",
       "      <td>-2.303337</td>\n",
       "      <td>-0.873773</td>\n",
       "      <td>1.538329</td>\n",
       "      <td>-0.330545</td>\n",
       "      <td>-1.246458</td>\n",
       "      <td>-0.320235</td>\n",
       "      <td>-0.261251</td>\n",
       "      <td>-0.617855</td>\n",
       "      <td>-2.374674</td>\n",
       "    </tr>\n",
       "    <tr>\n",
       "      <th>...</th>\n",
       "      <td>...</td>\n",
       "      <td>...</td>\n",
       "      <td>...</td>\n",
       "      <td>...</td>\n",
       "      <td>...</td>\n",
       "      <td>...</td>\n",
       "      <td>...</td>\n",
       "      <td>...</td>\n",
       "      <td>...</td>\n",
       "      <td>...</td>\n",
       "    </tr>\n",
       "    <tr>\n",
       "      <th>1495</th>\n",
       "      <td>0.078254</td>\n",
       "      <td>0.461972</td>\n",
       "      <td>1.123928</td>\n",
       "      <td>-0.560024</td>\n",
       "      <td>0.056163</td>\n",
       "      <td>-1.556716</td>\n",
       "      <td>-1.121268</td>\n",
       "      <td>1.009823</td>\n",
       "      <td>0.491985</td>\n",
       "      <td>0.089019</td>\n",
       "    </tr>\n",
       "    <tr>\n",
       "      <th>1496</th>\n",
       "      <td>0.270709</td>\n",
       "      <td>1.011420</td>\n",
       "      <td>-0.371784</td>\n",
       "      <td>-1.229511</td>\n",
       "      <td>0.907450</td>\n",
       "      <td>-0.102422</td>\n",
       "      <td>-0.393842</td>\n",
       "      <td>-0.545959</td>\n",
       "      <td>-0.085532</td>\n",
       "      <td>0.501635</td>\n",
       "    </tr>\n",
       "    <tr>\n",
       "      <th>1497</th>\n",
       "      <td>-1.720846</td>\n",
       "      <td>-1.227855</td>\n",
       "      <td>-0.021201</td>\n",
       "      <td>-0.869074</td>\n",
       "      <td>0.898413</td>\n",
       "      <td>-1.699503</td>\n",
       "      <td>-0.013160</td>\n",
       "      <td>-0.450193</td>\n",
       "      <td>-0.324492</td>\n",
       "      <td>1.111755</td>\n",
       "    </tr>\n",
       "    <tr>\n",
       "      <th>1498</th>\n",
       "      <td>-0.921633</td>\n",
       "      <td>0.479956</td>\n",
       "      <td>-1.162853</td>\n",
       "      <td>-0.279212</td>\n",
       "      <td>-2.346354</td>\n",
       "      <td>-1.221802</td>\n",
       "      <td>-0.657585</td>\n",
       "      <td>1.544478</td>\n",
       "      <td>-1.123184</td>\n",
       "      <td>0.122732</td>\n",
       "    </tr>\n",
       "    <tr>\n",
       "      <th>1499</th>\n",
       "      <td>0.403177</td>\n",
       "      <td>0.607488</td>\n",
       "      <td>-0.505770</td>\n",
       "      <td>-0.105085</td>\n",
       "      <td>0.957876</td>\n",
       "      <td>0.437631</td>\n",
       "      <td>-0.228075</td>\n",
       "      <td>0.763391</td>\n",
       "      <td>0.476617</td>\n",
       "      <td>0.643320</td>\n",
       "    </tr>\n",
       "  </tbody>\n",
       "</table>\n",
       "<p>1500 rows × 10 columns</p>\n",
       "</div>"
      ],
      "text/plain": [
       "             0         1         2         3         4         5         6  \\\n",
       "0     0.389931 -0.838284  1.968936  0.924795 -0.953027 -1.524406 -0.153558   \n",
       "1    -0.180634  0.827593  0.017068 -0.800341  0.450367 -0.285883 -1.007966   \n",
       "2     1.327942  2.257078  0.278028  1.196362  1.488471  1.585731  1.106778   \n",
       "3    -0.038221 -1.543440 -0.389085 -1.057201  0.127640  1.775334 -1.490630   \n",
       "4    -1.213114 -2.303337 -0.873773  1.538329 -0.330545 -1.246458 -0.320235   \n",
       "...        ...       ...       ...       ...       ...       ...       ...   \n",
       "1495  0.078254  0.461972  1.123928 -0.560024  0.056163 -1.556716 -1.121268   \n",
       "1496  0.270709  1.011420 -0.371784 -1.229511  0.907450 -0.102422 -0.393842   \n",
       "1497 -1.720846 -1.227855 -0.021201 -0.869074  0.898413 -1.699503 -0.013160   \n",
       "1498 -0.921633  0.479956 -1.162853 -0.279212 -2.346354 -1.221802 -0.657585   \n",
       "1499  0.403177  0.607488 -0.505770 -0.105085  0.957876  0.437631 -0.228075   \n",
       "\n",
       "             7         8         9  \n",
       "0    -1.764456 -1.438949  0.295061  \n",
       "1     0.620922 -0.252213  0.975275  \n",
       "2     3.002443 -0.449102 -0.592198  \n",
       "3    -1.218147  1.346898  1.203405  \n",
       "4    -0.261251 -0.617855 -2.374674  \n",
       "...        ...       ...       ...  \n",
       "1495  1.009823  0.491985  0.089019  \n",
       "1496 -0.545959 -0.085532  0.501635  \n",
       "1497 -0.450193 -0.324492  1.111755  \n",
       "1498  1.544478 -1.123184  0.122732  \n",
       "1499  0.763391  0.476617  0.643320  \n",
       "\n",
       "[1500 rows x 10 columns]"
      ]
     },
     "execution_count": 6,
     "metadata": {},
     "output_type": "execute_result"
    }
   ],
   "source": [
    "# preview 'X' dataset\n",
    "pd.DataFrame(X)"
   ]
  },
  {
   "cell_type": "code",
   "execution_count": 25,
   "metadata": {},
   "outputs": [
    {
     "data": {
      "text/html": [
       "<div>\n",
       "<style scoped>\n",
       "    .dataframe tbody tr th:only-of-type {\n",
       "        vertical-align: middle;\n",
       "    }\n",
       "\n",
       "    .dataframe tbody tr th {\n",
       "        vertical-align: top;\n",
       "    }\n",
       "\n",
       "    .dataframe thead th {\n",
       "        text-align: right;\n",
       "    }\n",
       "</style>\n",
       "<table border=\"1\" class=\"dataframe\">\n",
       "  <thead>\n",
       "    <tr style=\"text-align: right;\">\n",
       "      <th></th>\n",
       "      <th>count</th>\n",
       "      <th>mean</th>\n",
       "      <th>std</th>\n",
       "      <th>min</th>\n",
       "      <th>25%</th>\n",
       "      <th>50%</th>\n",
       "      <th>75%</th>\n",
       "      <th>max</th>\n",
       "    </tr>\n",
       "  </thead>\n",
       "  <tbody>\n",
       "    <tr>\n",
       "      <th>0</th>\n",
       "      <td>1500.0</td>\n",
       "      <td>0.006138</td>\n",
       "      <td>1.004022</td>\n",
       "      <td>-3.154282</td>\n",
       "      <td>-0.659677</td>\n",
       "      <td>0.001471</td>\n",
       "      <td>0.698747</td>\n",
       "      <td>3.386113</td>\n",
       "    </tr>\n",
       "    <tr>\n",
       "      <th>1</th>\n",
       "      <td>1500.0</td>\n",
       "      <td>0.015777</td>\n",
       "      <td>0.993568</td>\n",
       "      <td>-3.559955</td>\n",
       "      <td>-0.687674</td>\n",
       "      <td>0.008349</td>\n",
       "      <td>0.696319</td>\n",
       "      <td>3.280244</td>\n",
       "    </tr>\n",
       "    <tr>\n",
       "      <th>2</th>\n",
       "      <td>1500.0</td>\n",
       "      <td>-0.002676</td>\n",
       "      <td>0.993163</td>\n",
       "      <td>-3.384969</td>\n",
       "      <td>-0.646010</td>\n",
       "      <td>-0.005259</td>\n",
       "      <td>0.641921</td>\n",
       "      <td>2.979984</td>\n",
       "    </tr>\n",
       "    <tr>\n",
       "      <th>3</th>\n",
       "      <td>1500.0</td>\n",
       "      <td>0.023872</td>\n",
       "      <td>1.016042</td>\n",
       "      <td>-3.976070</td>\n",
       "      <td>-0.663683</td>\n",
       "      <td>0.034525</td>\n",
       "      <td>0.674896</td>\n",
       "      <td>3.596219</td>\n",
       "    </tr>\n",
       "    <tr>\n",
       "      <th>4</th>\n",
       "      <td>1500.0</td>\n",
       "      <td>-0.023260</td>\n",
       "      <td>0.979603</td>\n",
       "      <td>-3.068737</td>\n",
       "      <td>-0.687028</td>\n",
       "      <td>-0.047396</td>\n",
       "      <td>0.638866</td>\n",
       "      <td>3.085333</td>\n",
       "    </tr>\n",
       "    <tr>\n",
       "      <th>5</th>\n",
       "      <td>1500.0</td>\n",
       "      <td>0.004309</td>\n",
       "      <td>0.996382</td>\n",
       "      <td>-3.462813</td>\n",
       "      <td>-0.674827</td>\n",
       "      <td>-0.003470</td>\n",
       "      <td>0.707636</td>\n",
       "      <td>3.764744</td>\n",
       "    </tr>\n",
       "    <tr>\n",
       "      <th>6</th>\n",
       "      <td>1500.0</td>\n",
       "      <td>-0.012742</td>\n",
       "      <td>0.975011</td>\n",
       "      <td>-3.696708</td>\n",
       "      <td>-0.642220</td>\n",
       "      <td>-0.015128</td>\n",
       "      <td>0.665179</td>\n",
       "      <td>3.789854</td>\n",
       "    </tr>\n",
       "    <tr>\n",
       "      <th>7</th>\n",
       "      <td>1500.0</td>\n",
       "      <td>0.006775</td>\n",
       "      <td>1.031621</td>\n",
       "      <td>-3.228711</td>\n",
       "      <td>-0.701051</td>\n",
       "      <td>-0.002143</td>\n",
       "      <td>0.700683</td>\n",
       "      <td>3.048714</td>\n",
       "    </tr>\n",
       "    <tr>\n",
       "      <th>8</th>\n",
       "      <td>1500.0</td>\n",
       "      <td>0.025980</td>\n",
       "      <td>0.981040</td>\n",
       "      <td>-3.276782</td>\n",
       "      <td>-0.679221</td>\n",
       "      <td>0.014352</td>\n",
       "      <td>0.678847</td>\n",
       "      <td>3.400097</td>\n",
       "    </tr>\n",
       "    <tr>\n",
       "      <th>9</th>\n",
       "      <td>1500.0</td>\n",
       "      <td>0.036920</td>\n",
       "      <td>0.971490</td>\n",
       "      <td>-3.058188</td>\n",
       "      <td>-0.603427</td>\n",
       "      <td>-0.008014</td>\n",
       "      <td>0.691798</td>\n",
       "      <td>3.213886</td>\n",
       "    </tr>\n",
       "  </tbody>\n",
       "</table>\n",
       "</div>"
      ],
      "text/plain": [
       "    count      mean       std       min       25%       50%       75%  \\\n",
       "0  1500.0  0.006138  1.004022 -3.154282 -0.659677  0.001471  0.698747   \n",
       "1  1500.0  0.015777  0.993568 -3.559955 -0.687674  0.008349  0.696319   \n",
       "2  1500.0 -0.002676  0.993163 -3.384969 -0.646010 -0.005259  0.641921   \n",
       "3  1500.0  0.023872  1.016042 -3.976070 -0.663683  0.034525  0.674896   \n",
       "4  1500.0 -0.023260  0.979603 -3.068737 -0.687028 -0.047396  0.638866   \n",
       "5  1500.0  0.004309  0.996382 -3.462813 -0.674827 -0.003470  0.707636   \n",
       "6  1500.0 -0.012742  0.975011 -3.696708 -0.642220 -0.015128  0.665179   \n",
       "7  1500.0  0.006775  1.031621 -3.228711 -0.701051 -0.002143  0.700683   \n",
       "8  1500.0  0.025980  0.981040 -3.276782 -0.679221  0.014352  0.678847   \n",
       "9  1500.0  0.036920  0.971490 -3.058188 -0.603427 -0.008014  0.691798   \n",
       "\n",
       "        max  \n",
       "0  3.386113  \n",
       "1  3.280244  \n",
       "2  2.979984  \n",
       "3  3.596219  \n",
       "4  3.085333  \n",
       "5  3.764744  \n",
       "6  3.789854  \n",
       "7  3.048714  \n",
       "8  3.400097  \n",
       "9  3.213886  "
      ]
     },
     "execution_count": 25,
     "metadata": {},
     "output_type": "execute_result"
    }
   ],
   "source": [
    "# show summary statistics of 'X'\n",
    "pd.DataFrame(X).describe().T"
   ]
  },
  {
   "cell_type": "code",
   "execution_count": 7,
   "metadata": {},
   "outputs": [
    {
     "data": {
      "text/html": [
       "<div>\n",
       "<style scoped>\n",
       "    .dataframe tbody tr th:only-of-type {\n",
       "        vertical-align: middle;\n",
       "    }\n",
       "\n",
       "    .dataframe tbody tr th {\n",
       "        vertical-align: top;\n",
       "    }\n",
       "\n",
       "    .dataframe thead th {\n",
       "        text-align: right;\n",
       "    }\n",
       "</style>\n",
       "<table border=\"1\" class=\"dataframe\">\n",
       "  <thead>\n",
       "    <tr style=\"text-align: right;\">\n",
       "      <th></th>\n",
       "      <th>0</th>\n",
       "      <th>1</th>\n",
       "    </tr>\n",
       "  </thead>\n",
       "  <tbody>\n",
       "    <tr>\n",
       "      <th>0</th>\n",
       "      <td>-251.341754</td>\n",
       "      <td>-263.733400</td>\n",
       "    </tr>\n",
       "    <tr>\n",
       "      <th>1</th>\n",
       "      <td>128.281976</td>\n",
       "      <td>110.702275</td>\n",
       "    </tr>\n",
       "    <tr>\n",
       "      <th>2</th>\n",
       "      <td>539.816839</td>\n",
       "      <td>527.742881</td>\n",
       "    </tr>\n",
       "    <tr>\n",
       "      <th>3</th>\n",
       "      <td>-140.680751</td>\n",
       "      <td>-112.725884</td>\n",
       "    </tr>\n",
       "    <tr>\n",
       "      <th>4</th>\n",
       "      <td>-333.707629</td>\n",
       "      <td>-336.408857</td>\n",
       "    </tr>\n",
       "    <tr>\n",
       "      <th>...</th>\n",
       "      <td>...</td>\n",
       "      <td>...</td>\n",
       "    </tr>\n",
       "    <tr>\n",
       "      <th>1495</th>\n",
       "      <td>50.481536</td>\n",
       "      <td>21.294943</td>\n",
       "    </tr>\n",
       "    <tr>\n",
       "      <th>1496</th>\n",
       "      <td>162.898299</td>\n",
       "      <td>121.751412</td>\n",
       "    </tr>\n",
       "    <tr>\n",
       "      <th>1497</th>\n",
       "      <td>-159.258409</td>\n",
       "      <td>-213.364252</td>\n",
       "    </tr>\n",
       "    <tr>\n",
       "      <th>1498</th>\n",
       "      <td>-159.717566</td>\n",
       "      <td>-88.255655</td>\n",
       "    </tr>\n",
       "    <tr>\n",
       "      <th>1499</th>\n",
       "      <td>193.182551</td>\n",
       "      <td>170.367122</td>\n",
       "    </tr>\n",
       "  </tbody>\n",
       "</table>\n",
       "<p>1500 rows × 2 columns</p>\n",
       "</div>"
      ],
      "text/plain": [
       "               0           1\n",
       "0    -251.341754 -263.733400\n",
       "1     128.281976  110.702275\n",
       "2     539.816839  527.742881\n",
       "3    -140.680751 -112.725884\n",
       "4    -333.707629 -336.408857\n",
       "...          ...         ...\n",
       "1495   50.481536   21.294943\n",
       "1496  162.898299  121.751412\n",
       "1497 -159.258409 -213.364252\n",
       "1498 -159.717566  -88.255655\n",
       "1499  193.182551  170.367122\n",
       "\n",
       "[1500 rows x 2 columns]"
      ]
     },
     "execution_count": 7,
     "metadata": {},
     "output_type": "execute_result"
    }
   ],
   "source": [
    "# preview 'y' dataset\n",
    "pd.DataFrame(y)"
   ]
  },
  {
   "cell_type": "code",
   "execution_count": 26,
   "metadata": {},
   "outputs": [
    {
     "data": {
      "text/html": [
       "<div>\n",
       "<style scoped>\n",
       "    .dataframe tbody tr th:only-of-type {\n",
       "        vertical-align: middle;\n",
       "    }\n",
       "\n",
       "    .dataframe tbody tr th {\n",
       "        vertical-align: top;\n",
       "    }\n",
       "\n",
       "    .dataframe thead th {\n",
       "        text-align: right;\n",
       "    }\n",
       "</style>\n",
       "<table border=\"1\" class=\"dataframe\">\n",
       "  <thead>\n",
       "    <tr style=\"text-align: right;\">\n",
       "      <th></th>\n",
       "      <th>count</th>\n",
       "      <th>mean</th>\n",
       "      <th>std</th>\n",
       "      <th>min</th>\n",
       "      <th>25%</th>\n",
       "      <th>50%</th>\n",
       "      <th>75%</th>\n",
       "      <th>max</th>\n",
       "    </tr>\n",
       "  </thead>\n",
       "  <tbody>\n",
       "    <tr>\n",
       "      <th>0</th>\n",
       "      <td>1500.0</td>\n",
       "      <td>0.103792</td>\n",
       "      <td>142.166895</td>\n",
       "      <td>-485.235538</td>\n",
       "      <td>-92.904370</td>\n",
       "      <td>-0.670546</td>\n",
       "      <td>95.823508</td>\n",
       "      <td>539.816839</td>\n",
       "    </tr>\n",
       "    <tr>\n",
       "      <th>1</th>\n",
       "      <td>1500.0</td>\n",
       "      <td>0.960873</td>\n",
       "      <td>129.303016</td>\n",
       "      <td>-461.504088</td>\n",
       "      <td>-82.854381</td>\n",
       "      <td>5.591691</td>\n",
       "      <td>90.257862</td>\n",
       "      <td>527.742881</td>\n",
       "    </tr>\n",
       "  </tbody>\n",
       "</table>\n",
       "</div>"
      ],
      "text/plain": [
       "    count      mean         std         min        25%       50%        75%  \\\n",
       "0  1500.0  0.103792  142.166895 -485.235538 -92.904370 -0.670546  95.823508   \n",
       "1  1500.0  0.960873  129.303016 -461.504088 -82.854381  5.591691  90.257862   \n",
       "\n",
       "          max  \n",
       "0  539.816839  \n",
       "1  527.742881  "
      ]
     },
     "execution_count": 26,
     "metadata": {},
     "output_type": "execute_result"
    }
   ],
   "source": [
    "# show summary statistics of 'y'\n",
    "pd.DataFrame(y).describe().T"
   ]
  },
  {
   "cell_type": "markdown",
   "metadata": {},
   "source": [
    "# Some algorithms naturally support Multioutput Regression  \n",
    "\n",
    "For instance: \n",
    "- LinearRegression (and related)  \n",
    "- KNeighborsRegressor  \n",
    "- DecisionTreeRegressor  \n",
    "- RandomForestRegressor (and related)"
   ]
  },
  {
   "cell_type": "markdown",
   "metadata": {},
   "source": [
    "### Apply Linear Regression"
   ]
  },
  {
   "cell_type": "code",
   "execution_count": 8,
   "metadata": {},
   "outputs": [],
   "source": [
    "from sklearn.linear_model import LinearRegression"
   ]
  },
  {
   "cell_type": "code",
   "execution_count": 9,
   "metadata": {},
   "outputs": [
    {
     "data": {
      "text/plain": [
       "LinearRegression()"
      ]
     },
     "execution_count": 9,
     "metadata": {},
     "output_type": "execute_result"
    }
   ],
   "source": [
    "lrregression=LinearRegression()\n",
    "lrregression.fit(X,y)"
   ]
  },
  {
   "cell_type": "code",
   "execution_count": 10,
   "metadata": {},
   "outputs": [],
   "source": [
    "test_data=[[-0.35383149,  0.39382202, -2.03033197,  0.08873402, -0.38576581,\n",
    "        0.0032707 , -0.56476034, -0.67236167,  0.31317233,  1.5208706 ]]"
   ]
  },
  {
   "cell_type": "code",
   "execution_count": 11,
   "metadata": {},
   "outputs": [
    {
     "data": {
      "text/plain": [
       "array([[-31.00535229, -20.42165322]])"
      ]
     },
     "execution_count": 11,
     "metadata": {},
     "output_type": "execute_result"
    }
   ],
   "source": [
    "lrregression.predict(test_data)"
   ]
  },
  {
   "cell_type": "markdown",
   "metadata": {},
   "source": [
    "### Decision Tree Regression"
   ]
  },
  {
   "cell_type": "code",
   "execution_count": 12,
   "metadata": {},
   "outputs": [
    {
     "data": {
      "text/plain": [
       "DecisionTreeRegressor()"
      ]
     },
     "execution_count": 12,
     "metadata": {},
     "output_type": "execute_result"
    }
   ],
   "source": [
    "from sklearn.tree import DecisionTreeRegressor\n",
    "dtregressor=DecisionTreeRegressor()\n",
    "dtregressor.fit(X,y)"
   ]
  },
  {
   "cell_type": "code",
   "execution_count": 13,
   "metadata": {},
   "outputs": [
    {
     "data": {
      "text/plain": [
       "array([[-14.66075855, -16.04802789]])"
      ]
     },
     "execution_count": 13,
     "metadata": {},
     "output_type": "execute_result"
    }
   ],
   "source": [
    "dtregressor.predict(test_data)"
   ]
  },
  {
   "cell_type": "markdown",
   "metadata": {},
   "source": [
    "### Random Forest Regressor"
   ]
  },
  {
   "cell_type": "code",
   "execution_count": 14,
   "metadata": {},
   "outputs": [
    {
     "data": {
      "text/plain": [
       "RandomForestRegressor()"
      ]
     },
     "execution_count": 14,
     "metadata": {},
     "output_type": "execute_result"
    }
   ],
   "source": [
    "from sklearn.ensemble import RandomForestRegressor\n",
    "rdregressor=RandomForestRegressor()\n",
    "rdregressor.fit(X,y)"
   ]
  },
  {
   "cell_type": "code",
   "execution_count": 15,
   "metadata": {},
   "outputs": [
    {
     "data": {
      "text/plain": [
       "array([[-30.17798373, -18.76161587]])"
      ]
     },
     "execution_count": 15,
     "metadata": {},
     "output_type": "execute_result"
    }
   ],
   "source": [
    "rdregressor.predict(test_data)"
   ]
  },
  {
   "cell_type": "markdown",
   "metadata": {},
   "source": [
    "## Evaluate Multioutput Regression With Cross-Validation"
   ]
  },
  {
   "cell_type": "code",
   "execution_count": 16,
   "metadata": {},
   "outputs": [],
   "source": [
    "from sklearn.model_selection import cross_val_score"
   ]
  },
  {
   "cell_type": "code",
   "execution_count": 17,
   "metadata": {},
   "outputs": [],
   "source": [
    "scores=cross_val_score(rdregressor,X,y,scoring='neg_mean_squared_error',cv=5)"
   ]
  },
  {
   "cell_type": "code",
   "execution_count": 18,
   "metadata": {},
   "outputs": [
    {
     "name": "stdout",
     "output_type": "stream",
     "text": [
      "[-1751.07809473 -1406.95891831 -1363.33957065 -1287.08619231\n",
      " -1269.75448764]\n"
     ]
    }
   ],
   "source": [
    "print(scores)"
   ]
  },
  {
   "cell_type": "markdown",
   "metadata": {},
   "source": [
    "# Not all algorithms can support Multioutput Regression\n",
    "\n",
    "E.g., Support Vector Regressor.\n",
    "\n",
    "Running the code below generates an error message."
   ]
  },
  {
   "cell_type": "code",
   "execution_count": 19,
   "metadata": {},
   "outputs": [
    {
     "ename": "ValueError",
     "evalue": "y should be a 1d array, got an array of shape (1500, 2) instead.",
     "output_type": "error",
     "traceback": [
      "\u001b[1;31m---------------------------------------------------------------------------\u001b[0m",
      "\u001b[1;31mValueError\u001b[0m                                Traceback (most recent call last)",
      "\u001b[1;32m<ipython-input-19-66a85235e0ef>\u001b[0m in \u001b[0;36m<module>\u001b[1;34m\u001b[0m\n\u001b[0;32m      1\u001b[0m \u001b[1;32mfrom\u001b[0m \u001b[0msklearn\u001b[0m\u001b[1;33m.\u001b[0m\u001b[0msvm\u001b[0m \u001b[1;32mimport\u001b[0m \u001b[0mLinearSVR\u001b[0m\u001b[1;33m\u001b[0m\u001b[1;33m\u001b[0m\u001b[0m\n\u001b[0;32m      2\u001b[0m \u001b[0msvregressor\u001b[0m\u001b[1;33m=\u001b[0m\u001b[0mLinearSVR\u001b[0m\u001b[1;33m(\u001b[0m\u001b[1;33m)\u001b[0m\u001b[1;33m\u001b[0m\u001b[1;33m\u001b[0m\u001b[0m\n\u001b[1;32m----> 3\u001b[1;33m \u001b[0msvregressor\u001b[0m\u001b[1;33m.\u001b[0m\u001b[0mfit\u001b[0m\u001b[1;33m(\u001b[0m\u001b[0mX\u001b[0m\u001b[1;33m,\u001b[0m\u001b[0my\u001b[0m\u001b[1;33m)\u001b[0m\u001b[1;33m\u001b[0m\u001b[1;33m\u001b[0m\u001b[0m\n\u001b[0m",
      "\u001b[1;32mC:\\ProgramData\\Anaconda3\\lib\\site-packages\\sklearn\\svm\\_classes.py\u001b[0m in \u001b[0;36mfit\u001b[1;34m(self, X, y, sample_weight)\u001b[0m\n\u001b[0;32m    419\u001b[0m                              % self.C)\n\u001b[0;32m    420\u001b[0m \u001b[1;33m\u001b[0m\u001b[0m\n\u001b[1;32m--> 421\u001b[1;33m         X, y = self._validate_data(X, y, accept_sparse='csr',\n\u001b[0m\u001b[0;32m    422\u001b[0m                                    \u001b[0mdtype\u001b[0m\u001b[1;33m=\u001b[0m\u001b[0mnp\u001b[0m\u001b[1;33m.\u001b[0m\u001b[0mfloat64\u001b[0m\u001b[1;33m,\u001b[0m \u001b[0morder\u001b[0m\u001b[1;33m=\u001b[0m\u001b[1;34m\"C\"\u001b[0m\u001b[1;33m,\u001b[0m\u001b[1;33m\u001b[0m\u001b[1;33m\u001b[0m\u001b[0m\n\u001b[0;32m    423\u001b[0m                                    accept_large_sparse=False)\n",
      "\u001b[1;32mC:\\ProgramData\\Anaconda3\\lib\\site-packages\\sklearn\\base.py\u001b[0m in \u001b[0;36m_validate_data\u001b[1;34m(self, X, y, reset, validate_separately, **check_params)\u001b[0m\n\u001b[0;32m    431\u001b[0m                 \u001b[0my\u001b[0m \u001b[1;33m=\u001b[0m \u001b[0mcheck_array\u001b[0m\u001b[1;33m(\u001b[0m\u001b[0my\u001b[0m\u001b[1;33m,\u001b[0m \u001b[1;33m**\u001b[0m\u001b[0mcheck_y_params\u001b[0m\u001b[1;33m)\u001b[0m\u001b[1;33m\u001b[0m\u001b[1;33m\u001b[0m\u001b[0m\n\u001b[0;32m    432\u001b[0m             \u001b[1;32melse\u001b[0m\u001b[1;33m:\u001b[0m\u001b[1;33m\u001b[0m\u001b[1;33m\u001b[0m\u001b[0m\n\u001b[1;32m--> 433\u001b[1;33m                 \u001b[0mX\u001b[0m\u001b[1;33m,\u001b[0m \u001b[0my\u001b[0m \u001b[1;33m=\u001b[0m \u001b[0mcheck_X_y\u001b[0m\u001b[1;33m(\u001b[0m\u001b[0mX\u001b[0m\u001b[1;33m,\u001b[0m \u001b[0my\u001b[0m\u001b[1;33m,\u001b[0m \u001b[1;33m**\u001b[0m\u001b[0mcheck_params\u001b[0m\u001b[1;33m)\u001b[0m\u001b[1;33m\u001b[0m\u001b[1;33m\u001b[0m\u001b[0m\n\u001b[0m\u001b[0;32m    434\u001b[0m             \u001b[0mout\u001b[0m \u001b[1;33m=\u001b[0m \u001b[0mX\u001b[0m\u001b[1;33m,\u001b[0m \u001b[0my\u001b[0m\u001b[1;33m\u001b[0m\u001b[1;33m\u001b[0m\u001b[0m\n\u001b[0;32m    435\u001b[0m \u001b[1;33m\u001b[0m\u001b[0m\n",
      "\u001b[1;32mC:\\ProgramData\\Anaconda3\\lib\\site-packages\\sklearn\\utils\\validation.py\u001b[0m in \u001b[0;36minner_f\u001b[1;34m(*args, **kwargs)\u001b[0m\n\u001b[0;32m     61\u001b[0m             \u001b[0mextra_args\u001b[0m \u001b[1;33m=\u001b[0m \u001b[0mlen\u001b[0m\u001b[1;33m(\u001b[0m\u001b[0margs\u001b[0m\u001b[1;33m)\u001b[0m \u001b[1;33m-\u001b[0m \u001b[0mlen\u001b[0m\u001b[1;33m(\u001b[0m\u001b[0mall_args\u001b[0m\u001b[1;33m)\u001b[0m\u001b[1;33m\u001b[0m\u001b[1;33m\u001b[0m\u001b[0m\n\u001b[0;32m     62\u001b[0m             \u001b[1;32mif\u001b[0m \u001b[0mextra_args\u001b[0m \u001b[1;33m<=\u001b[0m \u001b[1;36m0\u001b[0m\u001b[1;33m:\u001b[0m\u001b[1;33m\u001b[0m\u001b[1;33m\u001b[0m\u001b[0m\n\u001b[1;32m---> 63\u001b[1;33m                 \u001b[1;32mreturn\u001b[0m \u001b[0mf\u001b[0m\u001b[1;33m(\u001b[0m\u001b[1;33m*\u001b[0m\u001b[0margs\u001b[0m\u001b[1;33m,\u001b[0m \u001b[1;33m**\u001b[0m\u001b[0mkwargs\u001b[0m\u001b[1;33m)\u001b[0m\u001b[1;33m\u001b[0m\u001b[1;33m\u001b[0m\u001b[0m\n\u001b[0m\u001b[0;32m     64\u001b[0m \u001b[1;33m\u001b[0m\u001b[0m\n\u001b[0;32m     65\u001b[0m             \u001b[1;31m# extra_args > 0\u001b[0m\u001b[1;33m\u001b[0m\u001b[1;33m\u001b[0m\u001b[1;33m\u001b[0m\u001b[0m\n",
      "\u001b[1;32mC:\\ProgramData\\Anaconda3\\lib\\site-packages\\sklearn\\utils\\validation.py\u001b[0m in \u001b[0;36mcheck_X_y\u001b[1;34m(X, y, accept_sparse, accept_large_sparse, dtype, order, copy, force_all_finite, ensure_2d, allow_nd, multi_output, ensure_min_samples, ensure_min_features, y_numeric, estimator)\u001b[0m\n\u001b[0;32m    824\u001b[0m                         ensure_2d=False, dtype=None)\n\u001b[0;32m    825\u001b[0m     \u001b[1;32melse\u001b[0m\u001b[1;33m:\u001b[0m\u001b[1;33m\u001b[0m\u001b[1;33m\u001b[0m\u001b[0m\n\u001b[1;32m--> 826\u001b[1;33m         \u001b[0my\u001b[0m \u001b[1;33m=\u001b[0m \u001b[0mcolumn_or_1d\u001b[0m\u001b[1;33m(\u001b[0m\u001b[0my\u001b[0m\u001b[1;33m,\u001b[0m \u001b[0mwarn\u001b[0m\u001b[1;33m=\u001b[0m\u001b[1;32mTrue\u001b[0m\u001b[1;33m)\u001b[0m\u001b[1;33m\u001b[0m\u001b[1;33m\u001b[0m\u001b[0m\n\u001b[0m\u001b[0;32m    827\u001b[0m         \u001b[0m_assert_all_finite\u001b[0m\u001b[1;33m(\u001b[0m\u001b[0my\u001b[0m\u001b[1;33m)\u001b[0m\u001b[1;33m\u001b[0m\u001b[1;33m\u001b[0m\u001b[0m\n\u001b[0;32m    828\u001b[0m     \u001b[1;32mif\u001b[0m \u001b[0my_numeric\u001b[0m \u001b[1;32mand\u001b[0m \u001b[0my\u001b[0m\u001b[1;33m.\u001b[0m\u001b[0mdtype\u001b[0m\u001b[1;33m.\u001b[0m\u001b[0mkind\u001b[0m \u001b[1;33m==\u001b[0m \u001b[1;34m'O'\u001b[0m\u001b[1;33m:\u001b[0m\u001b[1;33m\u001b[0m\u001b[1;33m\u001b[0m\u001b[0m\n",
      "\u001b[1;32mC:\\ProgramData\\Anaconda3\\lib\\site-packages\\sklearn\\utils\\validation.py\u001b[0m in \u001b[0;36minner_f\u001b[1;34m(*args, **kwargs)\u001b[0m\n\u001b[0;32m     61\u001b[0m             \u001b[0mextra_args\u001b[0m \u001b[1;33m=\u001b[0m \u001b[0mlen\u001b[0m\u001b[1;33m(\u001b[0m\u001b[0margs\u001b[0m\u001b[1;33m)\u001b[0m \u001b[1;33m-\u001b[0m \u001b[0mlen\u001b[0m\u001b[1;33m(\u001b[0m\u001b[0mall_args\u001b[0m\u001b[1;33m)\u001b[0m\u001b[1;33m\u001b[0m\u001b[1;33m\u001b[0m\u001b[0m\n\u001b[0;32m     62\u001b[0m             \u001b[1;32mif\u001b[0m \u001b[0mextra_args\u001b[0m \u001b[1;33m<=\u001b[0m \u001b[1;36m0\u001b[0m\u001b[1;33m:\u001b[0m\u001b[1;33m\u001b[0m\u001b[1;33m\u001b[0m\u001b[0m\n\u001b[1;32m---> 63\u001b[1;33m                 \u001b[1;32mreturn\u001b[0m \u001b[0mf\u001b[0m\u001b[1;33m(\u001b[0m\u001b[1;33m*\u001b[0m\u001b[0margs\u001b[0m\u001b[1;33m,\u001b[0m \u001b[1;33m**\u001b[0m\u001b[0mkwargs\u001b[0m\u001b[1;33m)\u001b[0m\u001b[1;33m\u001b[0m\u001b[1;33m\u001b[0m\u001b[0m\n\u001b[0m\u001b[0;32m     64\u001b[0m \u001b[1;33m\u001b[0m\u001b[0m\n\u001b[0;32m     65\u001b[0m             \u001b[1;31m# extra_args > 0\u001b[0m\u001b[1;33m\u001b[0m\u001b[1;33m\u001b[0m\u001b[1;33m\u001b[0m\u001b[0m\n",
      "\u001b[1;32mC:\\ProgramData\\Anaconda3\\lib\\site-packages\\sklearn\\utils\\validation.py\u001b[0m in \u001b[0;36mcolumn_or_1d\u001b[1;34m(y, warn)\u001b[0m\n\u001b[0;32m    862\u001b[0m         \u001b[1;32mreturn\u001b[0m \u001b[0mnp\u001b[0m\u001b[1;33m.\u001b[0m\u001b[0mravel\u001b[0m\u001b[1;33m(\u001b[0m\u001b[0my\u001b[0m\u001b[1;33m)\u001b[0m\u001b[1;33m\u001b[0m\u001b[1;33m\u001b[0m\u001b[0m\n\u001b[0;32m    863\u001b[0m \u001b[1;33m\u001b[0m\u001b[0m\n\u001b[1;32m--> 864\u001b[1;33m     raise ValueError(\n\u001b[0m\u001b[0;32m    865\u001b[0m         \u001b[1;34m\"y should be a 1d array, \"\u001b[0m\u001b[1;33m\u001b[0m\u001b[1;33m\u001b[0m\u001b[0m\n\u001b[0;32m    866\u001b[0m         \"got an array of shape {} instead.\".format(shape))\n",
      "\u001b[1;31mValueError\u001b[0m: y should be a 1d array, got an array of shape (1500, 2) instead."
     ]
    }
   ],
   "source": [
    "from sklearn.svm import LinearSVR\n",
    "svregressor=LinearSVR()\n",
    "svregressor.fit(X,y)"
   ]
  },
  {
   "cell_type": "markdown",
   "metadata": {},
   "source": [
    "# Wrapper Multioutput Regression Algorithms\n",
    "\n",
    "- Direct Multioutput Regression  \n",
    "- Chained Multioutput Regression"
   ]
  },
  {
   "cell_type": "markdown",
   "metadata": {},
   "source": [
    "### Direct Multioutput Regression\n",
    "\n",
    "Using a wrapper method from `sklearn` to enable MultiOutput Regression "
   ]
  },
  {
   "cell_type": "code",
   "execution_count": 20,
   "metadata": {},
   "outputs": [],
   "source": [
    "from sklearn.multioutput import MultiOutputRegressor"
   ]
  },
  {
   "cell_type": "code",
   "execution_count": 21,
   "metadata": {},
   "outputs": [
    {
     "data": {
      "text/plain": [
       "MultiOutputRegressor(estimator=LinearSVR())"
      ]
     },
     "execution_count": 21,
     "metadata": {},
     "output_type": "execute_result"
    }
   ],
   "source": [
    "mulregressor=MultiOutputRegressor(svregressor)\n",
    "mulregressor.fit(X,y)"
   ]
  },
  {
   "cell_type": "code",
   "execution_count": 22,
   "metadata": {},
   "outputs": [
    {
     "data": {
      "text/plain": [
       "array([[-31.00535229, -20.42165322]])"
      ]
     },
     "execution_count": 22,
     "metadata": {},
     "output_type": "execute_result"
    }
   ],
   "source": [
    "mulregressor.predict(test_data)"
   ]
  },
  {
   "cell_type": "markdown",
   "metadata": {},
   "source": [
    "### Chained Multioutput Regression\n",
    "\n",
    "Using another wrapper method from `sklearn` to enable MultiOutput Regression "
   ]
  },
  {
   "cell_type": "code",
   "execution_count": 28,
   "metadata": {},
   "outputs": [],
   "source": [
    "from sklearn.multioutput import RegressorChain"
   ]
  },
  {
   "cell_type": "code",
   "execution_count": 29,
   "metadata": {},
   "outputs": [
    {
     "data": {
      "text/plain": [
       "RegressorChain(base_estimator=LinearSVR())"
      ]
     },
     "execution_count": 29,
     "metadata": {},
     "output_type": "execute_result"
    }
   ],
   "source": [
    "mulregressor2 = RegressorChain(svregressor)\n",
    "mulregressor2.fit(X,y)"
   ]
  },
  {
   "cell_type": "code",
   "execution_count": 30,
   "metadata": {},
   "outputs": [
    {
     "data": {
      "text/plain": [
       "array([[-31.00535229, -20.42072872]])"
      ]
     },
     "execution_count": 30,
     "metadata": {},
     "output_type": "execute_result"
    }
   ],
   "source": [
    "mulregressor2.predict(test_data)"
   ]
  },
  {
   "cell_type": "markdown",
   "metadata": {},
   "source": [
    "The End! :)"
   ]
  }
 ],
 "metadata": {
  "kernelspec": {
   "display_name": "Python 3",
   "language": "python",
   "name": "python3"
  },
  "language_info": {
   "codemirror_mode": {
    "name": "ipython",
    "version": 3
   },
   "file_extension": ".py",
   "mimetype": "text/x-python",
   "name": "python",
   "nbconvert_exporter": "python",
   "pygments_lexer": "ipython3",
   "version": "3.8.8"
  }
 },
 "nbformat": 4,
 "nbformat_minor": 4
}
